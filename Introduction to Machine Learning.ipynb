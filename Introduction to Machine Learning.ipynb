{
 "cells": [
  {
   "cell_type": "code",
   "execution_count": 1,
   "id": "7069b41c",
   "metadata": {},
   "outputs": [
    {
     "name": "stdout",
     "output_type": "stream",
     "text": [
      "True\n"
     ]
    }
   ],
   "source": [
    "import numpy as np\n",
    "import matplotlib.pyplot as plt\n",
    "\n",
    "def is_belong(theta, x_point):\n",
    "    theta = np.asanyarray(theta)\n",
    "    x_point = np.asanyarray(x_point)\n",
    "    value = theta @ x_point\n",
    "    return value == 0\n",
    "\n",
    "if __name__ == '__main__':\n",
    "    print(is_belong([1,2], [-4, 2]))\n"
   ]
  },
  {
   "cell_type": "code",
   "execution_count": 2,
   "id": "06cdb597",
   "metadata": {
    "scrolled": true
   },
   "outputs": [
    {
     "name": "stdout",
     "output_type": "stream",
     "text": [
      "False\n"
     ]
    }
   ],
   "source": [
    "np.random.seed(2023) \n",
    "'''why?'''\n",
    "\n",
    "def is_normal(theta, x_point):\n",
    "    return x_point[0] % theta[0] == 0 and x_point[1] % theta[1] == 0\n",
    "\n",
    "if __name__ == '__main__':\n",
    "    theta = [1, 2]\n",
    "    x_point = [-5, 3]\n",
    "    print(is_normal(theta, x_point))\n"
   ]
  },
  {
   "cell_type": "code",
   "execution_count": 3,
   "id": "e199ce42",
   "metadata": {
    "scrolled": true
   },
   "outputs": [
    {
     "data": {
      "image/png": "[encoded data removed]",
      "text/plain": [
       "<Figure size 432x288 with 1 Axes>"
      ]
     },
     "metadata": {
      "needs_background": "light"
     },
     "output_type": "display_data"
    }
   ],
   "source": [
    "theta = np.array([1, 2])\n",
    "\n",
    "x = np.linspace(-10, 10, 100)\n",
    "y = (-theta[0] * x) / theta[1]\n",
    "\n",
    "plt.plot(x, y, label = 'Hyperplane')\n",
    "\n",
    "plt.xlabel('x')\n",
    "plt.ylabel('y')\n",
    "plt.legend()\n",
    "\n",
    "plt.gca().set_aspect('equal')\n",
    "plt.xlim(-10, 10)\n",
    "plt.ylim(-10, 10)\n",
    "\n",
    "plt.show()"
   ]
  },
  {
   "cell_type": "code",
   "execution_count": 4,
   "id": "60d2f73c",
   "metadata": {},
   "outputs": [
    {
     "name": "stdout",
     "output_type": "stream",
     "text": [
      "1.0\n"
     ]
    }
   ],
   "source": [
    "#4\n",
    "import math\n",
    "\n",
    "def howlong_distance(theta, theta_0):\n",
    "    len_theta = math.sqrt(theta[0]**2 + theta[1]**2)\n",
    "    return theta_0 / len_theta\n",
    "\n",
    "if __name__ == '__main__':\n",
    "    theta = np.array([3, 4])\n",
    "    theta_0 = 5\n",
    "    print(howlong_distance(theta, theta_0))\n",
    "    "
   ]
  },
  {
   "cell_type": "code",
   "execution_count": 5,
   "id": "aacee2da",
   "metadata": {},
   "outputs": [
    {
     "name": "stdout",
     "output_type": "stream",
     "text": [
      "1.0\n"
     ]
    }
   ],
   "source": [
    "#4\n",
    "def howlong_D(theta, theta_0):\n",
    "    a = 1\n",
    "    b = -theta[0] / theta[1] * a - theta_0 / theta[1]\n",
    "    '''random datapoint on hyperplane'''\n",
    "    \n",
    "    signed_vector = np.array([-a, -b])\n",
    "    len_theta = len_theta = math.sqrt(theta[0]**2 + theta[1]**2)\n",
    "    return signed_vector @ theta / len_theta\n",
    "\n",
    "if __name__ == '__main__':\n",
    "    theta = [3, 4]\n",
    "    theta_0 = 5\n",
    "    print(howlong_D(theta, theta_0))\n",
    "    \n",
    "    '''error?'''"
   ]
  },
  {
   "cell_type": "code",
   "execution_count": null,
   "id": "a5cd2a75",
   "metadata": {},
   "outputs": [],
   "source": [
    "#5\n",
    "\n",
    "def position_vector (x, theta, theta_0):\n",
    "    a = 1\n",
    "    b = -theta[0] / theta[1] * a - theta_0 / theta[1]\n",
    "    \n",
    "    fromhyperplane_vector = x - np.array([a, b])\n",
    "    len_theta = len_theta = math.sqrt(theta[0]**2 + theta[1]**2)\n",
    "    return fromhyperplane_vector @ theta / len_theta\n",
    "    \n",
    "if __name__ == '__main__':\n",
    "    x = np.asanyarray(input())\n",
    "    theta = np.asanyarray(input())\n",
    "    theta_0 = int(input())\n",
    "\n",
    "    print(position_vector (x, theta, theta_0))\n"
   ]
  },
  {
   "cell_type": "code",
   "execution_count": 7,
   "id": "50721c45",
   "metadata": {},
   "outputs": [
    {
     "name": "stdout",
     "output_type": "stream",
     "text": [
      "3, 4\n",
      "1, 2\n",
      "5\n"
     ]
    },
    {
     "ename": "ValueError",
     "evalue": "matmul: Input operand 0 does not have enough dimensions (has 0, gufunc core with signature (n?,k),(k,m?)->(n?,m?) requires 1)",
     "output_type": "error",
     "traceback": [
      "\u001b[1;31m---------------------------------------------------------------------------\u001b[0m",
      "\u001b[1;31mValueError\u001b[0m                                Traceback (most recent call last)",
      "Input \u001b[1;32mIn [7]\u001b[0m, in \u001b[0;36m<cell line: 11>\u001b[1;34m()\u001b[0m\n\u001b[0;32m     13\u001b[0m theta \u001b[38;5;241m=\u001b[39m np\u001b[38;5;241m.\u001b[39masanyarray(\u001b[38;5;28minput\u001b[39m())\n\u001b[0;32m     14\u001b[0m theta_0 \u001b[38;5;241m=\u001b[39m \u001b[38;5;28mint\u001b[39m(\u001b[38;5;28minput\u001b[39m())\n\u001b[1;32m---> 15\u001b[0m \u001b[38;5;28mprint\u001b[39m(\u001b[43mwhich_side\u001b[49m\u001b[43m \u001b[49m\u001b[43m(\u001b[49m\u001b[43mx\u001b[49m\u001b[43m,\u001b[49m\u001b[43m \u001b[49m\u001b[43mtheta\u001b[49m\u001b[43m,\u001b[49m\u001b[43m \u001b[49m\u001b[43mtheta_0\u001b[49m\u001b[43m)\u001b[49m)\n",
      "Input \u001b[1;32mIn [7]\u001b[0m, in \u001b[0;36mwhich_side\u001b[1;34m(x, theta, theta_0)\u001b[0m\n\u001b[0;32m      2\u001b[0m \u001b[38;5;28;01mdef\u001b[39;00m \u001b[38;5;21mwhich_side\u001b[39m (x, theta, theta_0):\n\u001b[1;32m----> 3\u001b[0m     point \u001b[38;5;241m=\u001b[39m \u001b[43mx\u001b[49m\u001b[43m \u001b[49m\u001b[38;5;241;43m@\u001b[39;49m\u001b[43m \u001b[49m\u001b[43mtheta\u001b[49m \u001b[38;5;241m+\u001b[39m theta_0\n\u001b[0;32m      4\u001b[0m     \u001b[38;5;28;01mif\u001b[39;00m point \u001b[38;5;241m>\u001b[39m \u001b[38;5;241m0\u001b[39m:\n\u001b[0;32m      5\u001b[0m         \u001b[38;5;28;01mreturn\u001b[39;00m \u001b[38;5;241m1\u001b[39m\n",
      "\u001b[1;31mValueError\u001b[0m: matmul: Input operand 0 does not have enough dimensions (has 0, gufunc core with signature (n?,k),(k,m?)->(n?,m?) requires 1)"
     ]
    }
   ],
   "source": [
    "#6\n",
    "def which_side (x, theta, theta_0):\n",
    "    point = x @ theta + theta_0\n",
    "    if point > 0:\n",
    "        return 1\n",
    "    elif point < 0:\n",
    "        return -1\n",
    "    else:\n",
    "        return 0\n",
    "    \n",
    "if __name__ == '__main__':\n",
    "    x = np.asanyarray(input())\n",
    "    theta = np.asanyarray(input())\n",
    "    theta_0 = int(input())\n",
    "    print(which_side (x, theta, theta_0))\n",
    "    \n",
    "'''error?'''    "
   ]
  },
  {
   "cell_type": "code",
   "execution_count": null,
   "id": "3fa386b3",
   "metadata": {},
   "outputs": [],
   "source": [
    "#7\n",
    "'''same as #6, but how to get input of X and Y?'''"
   ]
  },
  {
   "cell_type": "code",
   "execution_count": null,
   "id": "f83e698e",
   "metadata": {},
   "outputs": [],
   "source": []
  },
  {
   "cell_type": "code",
   "execution_count": null,
   "id": "a5eff6dd",
   "metadata": {},
   "outputs": [],
   "source": []
  },
  {
   "cell_type": "code",
   "execution_count": null,
   "id": "3de1e63f",
   "metadata": {},
   "outputs": [],
   "source": []
  },
  {
   "cell_type": "code",
   "execution_count": null,
   "id": "155a8cf6",
   "metadata": {},
   "outputs": [],
   "source": []
  },
  {
   "cell_type": "code",
   "execution_count": null,
   "id": "4f5b2f08",
   "metadata": {},
   "outputs": [],
   "source": []
  },
  {
   "cell_type": "code",
   "execution_count": null,
   "id": "661a6205",
   "metadata": {},
   "outputs": [],
   "source": []
  },
  {
   "cell_type": "code",
   "execution_count": null,
   "id": "fb6bb6cd",
   "metadata": {},
   "outputs": [],
   "source": []
  },
  {
   "cell_type": "code",
   "execution_count": null,
   "id": "3440c5fb",
   "metadata": {},
   "outputs": [],
   "source": []
  },
  {
   "cell_type": "code",
   "execution_count": null,
   "id": "2655fccb",
   "metadata": {},
   "outputs": [],
   "source": []
  }
 ],
 "metadata": {
  "kernelspec": {
   "display_name": "Python 3 (ipykernel)",
   "language": "python",
   "name": "python3"
  },
  "language_info": {
   "codemirror_mode": {
    "name": "ipython",
    "version": 3
   },
   "file_extension": ".py",
   "mimetype": "text/x-python",
   "name": "python",
   "nbconvert_exporter": "python",
   "pygments_lexer": "ipython3",
   "version": "3.9.12"
  }
 },
 "nbformat": 4,
 "nbformat_minor": 5
}
